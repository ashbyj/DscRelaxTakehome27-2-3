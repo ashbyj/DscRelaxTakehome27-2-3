{
 "cells": [
  {
   "cell_type": "code",
   "execution_count": 1,
   "id": "835322cf-785d-4888-ac98-ea50c3e0163e",
   "metadata": {
    "tags": []
   },
   "outputs": [],
   "source": [
    "import pandas as pd\n",
    "import chardet\n",
    "from ydata_profiling import ProfileReport\n",
    "from IPython.display import IFrame\n",
    "import warnings\n",
    "from sklearn.model_selection import train_test_split, GridSearchCV\n",
    "from sklearn.linear_model import LogisticRegression\n",
    "from sklearn.metrics import roc_curve, auc, accuracy_score, classification_report\n",
    "import matplotlib.pyplot as plt\n",
    "import seaborn as sns\n",
    "\n",
    "warnings.filterwarnings(\"ignore\")\n",
    "%matplotlib inline"
   ]
  },
  {
   "cell_type": "markdown",
   "id": "30b770a8-f0d3-46ca-8e28-cebf395c6606",
   "metadata": {},
   "source": [
    "# what signals do adopted users give us?"
   ]
  },
  {
   "cell_type": "markdown",
   "id": "c6388535-6ed9-4ef8-93a1-9aff22a2fe3d",
   "metadata": {},
   "source": [
    "A sample of 12,000 users and their login activity was collected from the website.  The goal of this analysis will be to determine what factors have the most influence on a user remaining active after their initial signup.  An active user is one that has 3 logins on different days in at least 1 7 day period.  "
   ]
  },
  {
   "cell_type": "markdown",
   "id": "5536f378-e5ce-4f37-832a-e1693c426967",
   "metadata": {},
   "source": [
    "## data load and target variable creation"
   ]
  },
  {
   "cell_type": "markdown",
   "id": "3d0b4647-e6f5-46cf-ac2e-8e32116e2432",
   "metadata": {},
   "source": [
    "The data to be used for the analysis came in 2 different .csv files.  One file had logins with timestamps and the other had user demographics.  This data needed to be combined and cleaned before modeling for prediction could be applied."
   ]
  },
  {
   "cell_type": "code",
   "execution_count": 2,
   "id": "a4c9872a-e2a8-492d-90f3-8250fe2dde22",
   "metadata": {
    "tags": []
   },
   "outputs": [],
   "source": [
    "df_activity = pd.read_csv('takehome_user_engagement.csv', encoding='ascii')\n",
    "df_user_details = pd.read_csv('takehome_users.csv', encoding='ISO-8859-1')\n",
    "df_activity['time_stamp'] = pd.to_datetime(df_activity['time_stamp'])\n",
    "\n",
    "working_df = pd.DataFrame()\n",
    "working_df['user_id'] = df_activity['user_id'].unique()\n",
    "working_df['adopted'] = df_activity \\\n",
    "                        .groupby('user_id')['time_stamp'] \\\n",
    "                        .transform(lambda x: x.diff().le(pd.Timedelta(days=7)).cumsum()) \\\n",
    "                        .ge(3)\n",
    "\n",
    "working_df = pd.merge(df_user_details, working_df, left_on='object_id', right_on='user_id', how='left')\n",
    "working_df['creation_time'] = pd.to_datetime(working_df['creation_time'])\n",
    "working_df['last_session_creation_time'] = pd.to_datetime(working_df['last_session_creation_time'], unit='s')"
   ]
  },
  {
   "cell_type": "markdown",
   "id": "aee225d6-d143-45b3-9ec2-9d46911fba37",
   "metadata": {},
   "source": [
    "## data exploration"
   ]
  },
  {
   "cell_type": "markdown",
   "id": "35f76230-c1c5-4277-ba57-fb48f9830353",
   "metadata": {},
   "source": [
    "Per the suggestion of 1-2 hours, I approached this analysis with the 80/20 rule where ~20% of the total effort I would estimate should yield an answer that is ~80% accurate.  I started with using an open source product, ydata profiling, to calculate descriptive statistics and first level relationships of the features included. "
   ]
  },
  {
   "cell_type": "code",
   "execution_count": 3,
   "id": "221fb43e-9018-442b-8b68-83ef10db769f",
   "metadata": {
    "tags": []
   },
   "outputs": [
    {
     "data": {
      "application/vnd.jupyter.widget-view+json": {
       "model_id": "a8e507b908014437a91b7ff416362226",
       "version_major": 2,
       "version_minor": 0
      },
      "text/plain": [
       "Summarize dataset:   0%|          | 0/5 [00:00<?, ?it/s]"
      ]
     },
     "metadata": {},
     "output_type": "display_data"
    },
    {
     "data": {
      "application/vnd.jupyter.widget-view+json": {
       "model_id": "bd2368f3e37d4c14a0a44e7c48e798eb",
       "version_major": 2,
       "version_minor": 0
      },
      "text/plain": [
       "Generate report structure:   0%|          | 0/1 [00:00<?, ?it/s]"
      ]
     },
     "metadata": {},
     "output_type": "display_data"
    },
    {
     "data": {
      "application/vnd.jupyter.widget-view+json": {
       "model_id": "40694275d9714e9b9d8295f62f03e2e6",
       "version_major": 2,
       "version_minor": 0
      },
      "text/plain": [
       "Render HTML:   0%|          | 0/1 [00:00<?, ?it/s]"
      ]
     },
     "metadata": {},
     "output_type": "display_data"
    },
    {
     "data": {
      "application/vnd.jupyter.widget-view+json": {
       "model_id": "c5a3a927bf634d4c8d08f3103ca993e7",
       "version_major": 2,
       "version_minor": 0
      },
      "text/plain": [
       "Export report to file:   0%|          | 0/1 [00:00<?, ?it/s]"
      ]
     },
     "metadata": {},
     "output_type": "display_data"
    }
   ],
   "source": [
    "profile = ProfileReport(working_df, explorative=True)\n",
    "profile.to_file('PrelimProfile.html')"
   ]
  },
  {
   "cell_type": "code",
   "execution_count": 4,
   "id": "9ace415e-e9cb-4b83-8f5a-3ff5171208ba",
   "metadata": {
    "tags": []
   },
   "outputs": [
    {
     "data": {
      "text/html": [
       "\n",
       "        <iframe\n",
       "            width=\"1200\"\n",
       "            height=\"800\"\n",
       "            src=\"PrelimProfile.html\"\n",
       "            frameborder=\"0\"\n",
       "            allowfullscreen\n",
       "            \n",
       "        ></iframe>\n",
       "        "
      ],
      "text/plain": [
       "<IPython.lib.display.IFrame at 0x7f1af8b91850>"
      ]
     },
     "execution_count": 4,
     "metadata": {},
     "output_type": "execute_result"
    }
   ],
   "source": [
    "IFrame(src='PrelimProfile.html', width=1200, height=800)"
   ]
  },
  {
   "cell_type": "markdown",
   "id": "7bc8d93f-e66f-43aa-b1dd-38a7dd3f3ea1",
   "metadata": {},
   "source": [
    "In the initial pass, I found several actions that should be taken to get the data ready for modeling.  \n",
    "1. adopted had missing values that needed to be false.  these were users that signed up, but never logged in.\n",
    "2. the included org_id had too many choices to use as categories.  this was converted to a T/F on whether or not the user was associated to an organization.\n",
    "- grouping this variable differently may yield to better insights.  for example, creating categories for the top 3-5 organizations with an 'other' or building a hierarchy with the industry each org belongs too.\n",
    "3. several features were either redundant or would push the project past the budgeted time for limited value.\n",
    "- last session, name, email, invited by and creation time were the features.  All of these could be used to build other features."
   ]
  },
  {
   "cell_type": "code",
   "execution_count": 5,
   "id": "28643e01-74cc-43ea-8350-662a1d56f528",
   "metadata": {
    "tags": []
   },
   "outputs": [],
   "source": [
    "working_df['adopted'] = working_df['adopted'].fillna(False)\n",
    "working_df['part_of_org'] = working_df['org_id'] != 0\n",
    "working_df['part_of_org'] = working_df['part_of_org'].fillna(False)\n",
    "to_int = ['opted_in_to_mailing_list','enabled_for_marketing_drip','adopted','part_of_org']\n",
    "working_df['opted_in_to_mailing_list'] = working_df['opted_in_to_mailing_list'].astype(int)\n",
    "working_df['enabled_for_marketing_drip'] = working_df['enabled_for_marketing_drip'].astype(int)\n",
    "working_df['adopted'] = working_df['adopted'].astype(int)\n",
    "working_df['part_of_org'] = working_df['part_of_org'].astype(int)                                      \n",
    "\n",
    "to_drop = ['object_id' # identifiers not needed\n",
    "           , 'user_id' # identifier\n",
    "           , 'last_session_creation_time' # time series out of scope\n",
    "           , 'name' # identifier\n",
    "           , 'email' # identifier\n",
    "           , 'invited_by_user_id' # correlated with creation source when transformed TF\n",
    "           , 'creation_time' # time series out of scope\n",
    "           , 'org_id' # replaced with part_of_org\n",
    "          ]\n",
    "working_df = working_df.drop(to_drop, axis=1)\n",
    "working_df = pd.get_dummies(working_df, columns=['creation_source'], prefix='cs', drop_first=True)"
   ]
  },
  {
   "cell_type": "code",
   "execution_count": 6,
   "id": "1d9a3188-65b0-4f95-b830-e74664bd66bd",
   "metadata": {
    "tags": []
   },
   "outputs": [
    {
     "data": {
      "application/vnd.jupyter.widget-view+json": {
       "model_id": "b9d9c70c5fde40cdaca2a060c551202d",
       "version_major": 2,
       "version_minor": 0
      },
      "text/plain": [
       "Summarize dataset:   0%|          | 0/5 [00:00<?, ?it/s]"
      ]
     },
     "metadata": {},
     "output_type": "display_data"
    },
    {
     "data": {
      "application/vnd.jupyter.widget-view+json": {
       "model_id": "db4b4e56c438429f94b1146543e5dbe9",
       "version_major": 2,
       "version_minor": 0
      },
      "text/plain": [
       "Generate report structure:   0%|          | 0/1 [00:00<?, ?it/s]"
      ]
     },
     "metadata": {},
     "output_type": "display_data"
    },
    {
     "data": {
      "application/vnd.jupyter.widget-view+json": {
       "model_id": "bc01490cfe3f49a7b5cfff92eb7bbf19",
       "version_major": 2,
       "version_minor": 0
      },
      "text/plain": [
       "Render HTML:   0%|          | 0/1 [00:00<?, ?it/s]"
      ]
     },
     "metadata": {},
     "output_type": "display_data"
    },
    {
     "data": {
      "application/vnd.jupyter.widget-view+json": {
       "model_id": "7505e1a693944aef9b97d8978d8cd36c",
       "version_major": 2,
       "version_minor": 0
      },
      "text/plain": [
       "Export report to file:   0%|          | 0/1 [00:00<?, ?it/s]"
      ]
     },
     "metadata": {},
     "output_type": "display_data"
    }
   ],
   "source": [
    "profile = ProfileReport(working_df, explorative=True)\n",
    "profile.to_file('AfterEda.html')"
   ]
  },
  {
   "cell_type": "code",
   "execution_count": 7,
   "id": "795c56fd-ee9e-45c7-a384-ca636f7b59af",
   "metadata": {
    "tags": []
   },
   "outputs": [
    {
     "data": {
      "text/html": [
       "\n",
       "        <iframe\n",
       "            width=\"1200\"\n",
       "            height=\"800\"\n",
       "            src=\"AfterEda.html\"\n",
       "            frameborder=\"0\"\n",
       "            allowfullscreen\n",
       "            \n",
       "        ></iframe>\n",
       "        "
      ],
      "text/plain": [
       "<IPython.lib.display.IFrame at 0x7f1af8b52110>"
      ]
     },
     "execution_count": 7,
     "metadata": {},
     "output_type": "execute_result"
    }
   ],
   "source": [
    "IFrame(src='AfterEda.html', width=1200, height=800)"
   ]
  },
  {
   "cell_type": "markdown",
   "id": "b1606bd9-051b-4ec5-b499-27ff2f17c6e7",
   "metadata": {},
   "source": [
    "## modeling"
   ]
  },
  {
   "cell_type": "markdown",
   "id": "92cad7e4-4833-4e58-a543-1d470ce2f345",
   "metadata": {},
   "source": [
    "I selected simple logistic regression as a base model because it best fit the characteristics of the data after prep.\n",
    "- there are a small number of observations\n",
    "- there are a limited number of features\n",
    "- this is a binary classification problem\n",
    "\n",
    "SVMs, random forests (with boosting variants) or a neural network would have also been appropriate choices.  Each of these are harder to explain and understand than logistic regression and could potentially limit the value of the answer to \"what factors predict adoption?\". Logistic regression will serve well as a baseline model and help to inform the decision to move forward and under what scope."
   ]
  },
  {
   "cell_type": "markdown",
   "id": "95d8d103-acda-465f-969f-f9d6468aae43",
   "metadata": {},
   "source": [
    "### model training and metrics"
   ]
  },
  {
   "cell_type": "markdown",
   "id": "182f7f61-885c-46d6-a2ae-1bf32f333ea7",
   "metadata": {},
   "source": [
    "I limited the model training to the most common types of logistic regression, but did train 6 different models with varying allowances of overfitting to find the best performance of that parameter.  Because I don't know if the business prefers false positives or false negatives, I used auc as the success metric.  This metric best measures the parsimony of the model under both options.  The best model tested had a auc of 0.7.  I would expect this model to do 40% better than a coin flip.  This information is charted below with each axis working together to describe how many false positives are included as the probability threshold is adjusted to catch more true positives.  The blue line represents this relationship and the orange dotted line represents coin flips.  Based on this metric and chart, if false positives and false negatives are valued equally by the business, a false positive threshold of around 0.65 would allow for the best increasee in true positives."
   ]
  },
  {
   "cell_type": "code",
   "execution_count": 8,
   "id": "63e60d78-eb17-4ea9-9e80-aab61e094283",
   "metadata": {
    "tags": []
   },
   "outputs": [
    {
     "name": "stdout",
     "output_type": "stream",
     "text": [
      "Best Parameters: {'C': 0.001}\n",
      "Accuracy: 0.67125\n",
      "Classification Report:\n",
      "               precision    recall  f1-score   support\n",
      "\n",
      "           0       0.00      0.00      0.00       789\n",
      "           1       0.67      1.00      0.80      1611\n",
      "\n",
      "    accuracy                           0.67      2400\n",
      "   macro avg       0.34      0.50      0.40      2400\n",
      "weighted avg       0.45      0.67      0.54      2400\n",
      "\n"
     ]
    },
    {
     "data": {
      "image/png": "[encoded data removed]",
      "text/plain": [
       "<Figure size 800x800 with 1 Axes>"
      ]
     },
     "metadata": {},
     "output_type": "display_data"
    },
    {
     "name": "stdout",
     "output_type": "stream",
     "text": [
      "                      Feature  Coefficient\n",
      "6       cs_SIGNUP_GOOGLE_AUTH     0.221130\n",
      "5                   cs_SIGNUP     0.188668\n",
      "0    opted_in_to_mailing_list     0.012514\n",
      "3               cs_ORG_INVITE     0.011570\n",
      "1  enabled_for_marketing_drip     0.011168\n",
      "2                 part_of_org     0.008890\n",
      "4        cs_PERSONAL_PROJECTS    -0.413009\n"
     ]
    }
   ],
   "source": [
    "X = working_df.drop('adopted', axis=1)\n",
    "y = working_df['adopted']\n",
    "X_train, X_test, y_train, y_test = train_test_split(X, y, test_size=0.2, random_state=42)\n",
    "\n",
    "param_grid = {'C': [0.001, 0.01, 0.1, 1, 10, 100]}\n",
    "logreg = LogisticRegression()\n",
    "grid_search = GridSearchCV(logreg, param_grid, cv=5, scoring='roc_auc')\n",
    "grid_search.fit(X_train, y_train)\n",
    "\n",
    "best_params = grid_search.best_params_\n",
    "predictions = grid_search.predict(X_test)\n",
    "probabilities = grid_search.predict_proba(X_test)[:, 1]\n",
    "\n",
    "accuracy = accuracy_score(y_test, predictions)\n",
    "report = classification_report(y_test, predictions)\n",
    "fpr, tpr, _ = roc_curve(y_test, probabilities)\n",
    "roc_auc = auc(fpr, tpr)\n",
    "\n",
    "print(f'Best Parameters: {best_params}')\n",
    "print(f'Accuracy: {accuracy}')\n",
    "print('Classification Report:\\n', report)\n",
    "\n",
    "plt.figure(figsize=(8, 8))\n",
    "sns.set(style='whitegrid')\n",
    "plt.plot(fpr, tpr, color='navy', lw=2, label=f'ROC curve (area = {roc_auc:.2f})')\n",
    "plt.plot([0, 1], [0, 1], color='darkorange', lw=2, linestyle='--')\n",
    "plt.xlabel('False Positive Rate')\n",
    "plt.ylabel('True Positive Rate')\n",
    "plt.title('Receiver Operating Characteristic (ROC) Curve')\n",
    "plt.legend(loc='lower right')\n",
    "plt.show()\n",
    "\n",
    "coefficients = pd.DataFrame({'Feature': X.columns, 'Coefficient': grid_search.best_estimator_.coef_[0]})\n",
    "print(coefficients.sort_values(by='Coefficient', ascending=False))"
   ]
  },
  {
   "cell_type": "markdown",
   "id": "8706f91a-6231-4857-816f-56cea3270075",
   "metadata": {},
   "source": [
    "## conclusion and feature weights in prediction\n",
    "\n",
    "The factor that have the most impact on adoption is the signup source.  Specifically users that signed up with their Google account or email are more likely to stay and those that were invited to personal projects are the least likely.  It surprised me that the mailing list and marketing drip had very little impact on adoption.  Also signups from members of organizations had an unexpectedly low impact.  \n",
    "\n",
    "My recommendation would be to discard this model and return to data collection or invest more effort into exploring relationships and interactions between the individual features at a lower level.  Logistic regression has shown that there is information available in the data and shown the value of diving deeper.  However, it hasn't given a very clear picture of what that information or what an appropriate response would be."
   ]
  }
 ],
 "metadata": {
  "kernelspec": {
   "display_name": "Python 3 (ipykernel)",
   "language": "python",
   "name": "python3"
  },
  "language_info": {
   "codemirror_mode": {
    "name": "ipython",
    "version": 3
   },
   "file_extension": ".py",
   "mimetype": "text/x-python",
   "name": "python",
   "nbconvert_exporter": "python",
   "pygments_lexer": "ipython3",
   "version": "3.11.5"
  }
 },
 "nbformat": 4,
 "nbformat_minor": 5
}
